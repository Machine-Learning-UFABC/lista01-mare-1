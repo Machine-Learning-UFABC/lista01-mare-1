{
 "cells": [
  {
   "cell_type": "markdown",
   "id": "a0dfe367-1903-487b-a701-1e63ff08dff2",
   "metadata": {},
   "source": [
    "Nome: ANGELO ORLETTI DEL REY, e-mail: Angelo.rey@aluno.ufabc.edu.br\n",
    "\n",
    "Nome: Raphael Moisés Pereira Brito, e-mail: Raphael.brito@aluno.ufabc.edu.br"
   ]
  },
  {
   "cell_type": "markdown",
   "id": "84c1b0e8-d4da-45d3-a280-8ab3326d15be",
   "metadata": {},
   "source": [
    "Exercício 1\n",
    "\n",
    "A) Problema de classificação\n",
    "Exemplo: Diagnostico de Doenças\n",
    "Vetores de Características: Idade, Gênero, Sintomas, Exames\n",
    "Rótulos: Doente ou Não Doente\n",
    "\n",
    "b) Problema de Regressão\n",
    "Exemplo: Previsão de Preço de casas\n",
    "Vetores de Características: Localização, Área, quartos \n",
    "Reposta: Preço da casa\n",
    "\n",
    "c) Problema de Agrupamento \n",
    "Exemplo: Segmentação de Clientes\n",
    "\n",
    "Vetores de Características: Idade, Gasto Mensal, Frequência de Compras\n",
    "Grupos: Categoria de Clientes\n",
    "\n",
    "\n",
    "\n"
   ]
  },
  {
   "cell_type": "markdown",
   "id": "408fdc92-3c19-4b93-b3e6-82db3d423caf",
   "metadata": {},
   "source": [
    "Exercício 2\n",
    "\n",
    "A maldição da dimensionalidade refere-se a uma série de fenômenos que surgem ao lidar com dados em espaços de alta dimensão, dificultando a análise, visualização e modelagem. Esses efeitos não ocorrem em espaços de baixa dimensão, como o tridimensional que experimentamos no dia a dia. Entre os principais problemas associados estão o aumento da dispersão dos dados, a redução da \n",
    "eficácia de métodos estatísticos e de aprendizado de máquina, e a dificuldade em medir distâncias de forma significativa, impactando algoritmos de classificação, agrupamento e otimização."
   ]
  },
  {
   "cell_type": "code",
   "execution_count": 50,
   "id": "77e0edf6-7e68-44dc-b700-d25ac9c3d497",
   "metadata": {},
   "outputs": [],
   "source": [
    "import pandas as pd \n",
    "import numpy as np\n",
    "from collections import Counter\n",
    "from sklearn.model_selection import train_test_split\n",
    "from sklearn.metrics import accuracy_score\n",
    "from sklearn import datasets\n",
    "import random"
   ]
  },
  {
   "cell_type": "code",
   "execution_count": 60,
   "id": "4d3e8678-fdbe-48c3-ad84-20d0a21025ec",
   "metadata": {},
   "outputs": [
    {
     "name": "stdout",
     "output_type": "stream",
     "text": [
      "Classe predita pra x = (1, 2): one\n"
     ]
    }
   ],
   "source": [
    "#Exercício 3\n",
    "\n",
    "def kNN(k, x, D):\n",
    "    #calculando a distância euclidiana \n",
    "    D[\"dist\"] = ((x[0] - D[\"x_1\"] )**2 + (x[1]- D[\"x_2\"] )**2)\n",
    "\n",
    "    #ordenando pela menor distância e seleciona os k vizinhos mais próximos \n",
    "    neighbors = D.nsmallest (k, \"dist\") [\"y\"]\n",
    "\n",
    "    #retorna a classe mais comum entre os vizinhos\n",
    "    return Counter (neighbors).most_common(1)[0][0]\n",
    "\n",
    "D = pd.DataFrame({\n",
    "    \"x_1\": [-0.0615459, 1.0131817, 0.2965129, 1.5458330, -0.6332987, 2.0871559],\n",
    "    \"x_2\": [-0.3463786, -2.7884388, -4.2492883, -2.2266978, -0.4540896, 2.1692931],\n",
    "    \"y\": [\"three\", \"one\", \"one\", \"one\", \"three\", \"one\"]\n",
    "})\n",
    "x = (1, 2)\n",
    "k = 10\n",
    "classe_predita = kNN( k, x, D)\n",
    "print(f\"Classe predita pra x = {x}: {classe_predita}\")\n"
   ]
  },
  {
   "cell_type": "code",
   "execution_count": 66,
   "id": "ceee6d31-443a-4d38-88b7-61105973a196",
   "metadata": {},
   "outputs": [
    {
     "name": "stdout",
     "output_type": "stream",
     "text": [
      "Acurácia com k = 1: 0.9333333333333333\n",
      "Acurácia com k = 10: 1.0\n"
     ]
    }
   ],
   "source": [
    "#Exercício 4\n",
    "\n",
    "# carregando o dataset iris \n",
    "\n",
    "data = datasets.load_iris()\n",
    "df_iris= pd.DataFrame(data.data, columns = data.feature_names)\n",
    "df_iris[\"y\"] = data.target_names[data.target]\n",
    "\n",
    "#seleciona as colunas Petal.length e sepal.length\n",
    "df_iris = df_iris.rename(columns ={\"petal length (cm)\": \"x_1\", \"sepal length (cm)\": \"x_2\"})\n",
    "\n",
    "#separando o conjunto de treino e teste\n",
    "\n",
    "train, test = train_test_split(df_iris, test_size = 0.3, random_state = 42)\n",
    "\n",
    "def evaluate_knn(k):\n",
    "    prediction = test.apply (lambda row: kNN(k, (row[\"x_1\"], row [\"x_2\"]), train), axis = 1)\n",
    "    return accuracy_score(test[\"y\"], prediction)\n",
    "\n",
    "# Avaliando para k=10 e k=1\n",
    "acc_k1 = evaluate_knn(1)\n",
    "acc_k10 = evaluate_knn(10)\n",
    "\n",
    "print (f\"Acurácia com k = 1: {acc_k1}\")\n",
    "print (f\"Acurácia com k = 10: {acc_k10}\")\n",
    "    \n",
    "\n",
    "\n",
    "\n"
   ]
  },
  {
   "cell_type": "code",
   "execution_count": 74,
   "id": "beb5bb10-f373-42f9-9820-7f6d7a82f94b",
   "metadata": {},
   "outputs": [
    {
     "name": "stdout",
     "output_type": "stream",
     "text": [
      "Mediana erro absoluto: 6.0\n"
     ]
    }
   ],
   "source": [
    "#Exercício 5\n",
    "\n",
    "# Mostrando que a função ótima para a perda do erro absoluto é a Mediana(Y | X = x)\n",
    "def mediana_erro_absoluto(Y):\n",
    "    return np.median(Y)\n",
    "\n",
    "dados_Y = np.array([1,3,3,6,7,8,9])\n",
    "\n",
    "print(f\"Mediana erro absoluto: {mediana_erro_absoluto(dados_Y)}\")\n",
    "\n"
   ]
  },
  {
   "cell_type": "code",
   "execution_count": 76,
   "id": "21f1b9ba-4782-4a52-9a84-3d2f4e66669c",
   "metadata": {},
   "outputs": [
    {
     "name": "stdout",
     "output_type": "stream",
     "text": [
      "Mediana da distância para m = 100, d = 3: 0.19044682062800528\n"
     ]
    }
   ],
   "source": [
    "# Mediana da distância do ponto mais próximo à origem em uma hiperesfera\n",
    "\n",
    "def mediana_distancia_hiperesfera (m,d):\n",
    "   return (1 - 0.5 **(1/m))**(1/d)\n",
    "\n",
    "m, d = 100, 3\n",
    "print (f\"Mediana da distância para m = {m}, d = {d}: {mediana_distancia_hiperesfera(m,d)}\")\n",
    "   "
   ]
  },
  {
   "cell_type": "code",
   "execution_count": null,
   "id": "b616ce0b-2b99-4ed7-8fa4-be717f8bf212",
   "metadata": {},
   "outputs": [],
   "source": []
  }
 ],
 "metadata": {
  "kernelspec": {
   "display_name": "Python [conda env:base] *",
   "language": "python",
   "name": "conda-base-py"
  },
  "language_info": {
   "codemirror_mode": {
    "name": "ipython",
    "version": 3
   },
   "file_extension": ".py",
   "mimetype": "text/x-python",
   "name": "python",
   "nbconvert_exporter": "python",
   "pygments_lexer": "ipython3",
   "version": "3.12.2"
  }
 },
 "nbformat": 4,
 "nbformat_minor": 5
}
